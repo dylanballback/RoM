{
 "cells": [
  {
   "cell_type": "code",
   "execution_count": 16,
   "metadata": {},
   "outputs": [],
   "source": [
    "import numpy as np\n",
    "from dataclasses import dataclass"
   ]
  },
  {
   "cell_type": "code",
   "execution_count": 20,
   "metadata": {},
   "outputs": [],
   "source": [
    "@dataclass\n",
    "class Actuator_Parameters:\n",
    "    \"\"\"\n",
    "    A class to represent a actuator.\n",
    "\n",
    "    ...\n",
    "\n",
    "    Attributes\n",
    "    ----------\n",
    "    zeroLength : int/float\n",
    "        The length of the actuator when rod is fully compressed.\n",
    "    strokeLength : int/float\n",
    "        The stroke length of the actuator's rod.\n",
    "    safteyOffset : int/float\n",
    "        Saftey tolerance added to zero length and subtracted from stroke length.\n",
    "    min_len : int/float\n",
    "        Minimum actuator length (zero_len + saftey_tol).\n",
    "    max_len : int/float\n",
    "        Maximum actuator length (zero_len + stroke_len - saftey_tol).\n",
    "    base_mount : 3x1 np.array, dtype=float (Default = np.array[0,0,0])\n",
    "        Actuator base end mounting X,Y,Z postion.\n",
    "    rod_mount : 3x1 np.array, dtype=float (Default = np.array[0,0,0])\n",
    "        Actuator rod end mounting X,Y,Z postion.\n",
    "\n",
    "\n",
    "    Methods\n",
    "    -------\n",
    "    info(additional=\"\"):\n",
    "        Prints the Actuator Parametes zero length, stroke length, and saftey tolerance.\n",
    "    \"\"\"\n",
    "    zeroLength: float\n",
    "    strokeLength: float\n",
    "    safteyOffset: float\n",
    "    base_mount: np.ndarray = np.array([0,0,0])\n",
    "    rod_mount: np.ndarray = np.array([0,0,0])\n",
    "\n",
    "\n",
    "    def __post_init__(self):\n",
    "        self.minLength = self.zeroLength + self.safteyOffset\n",
    "        self.maxLength = self.zeroLength + self.strokeLength - self.safteyOffset\n",
    "\n",
    "    def info(self, additional=\"\"):\n",
    "        \"\"\"\n",
    "        Prints the actuator's zero length, stroke length, saftey tolerance, min length, and max length.\n",
    "\n",
    "        If the argument 'additional' is passed, then it is appended after the main info.\n",
    "\n",
    "        Parameters\n",
    "        ----------\n",
    "        additional : str, optional\n",
    "            More info to be displayed (default is None)\n",
    "\n",
    "        Returns\n",
    "        -------\n",
    "        None\n",
    "        \"\"\"\n",
    "        print(f'Zero length = {self.zero_len}. Stroke length = {self.stroke_len}. Saftey tolerance = {self.saftey_tol}. Min Length = {self.min_len}. Max length = {self.max_len}. '+ additional)"
   ]
  },
  {
   "cell_type": "code",
   "execution_count": 21,
   "metadata": {},
   "outputs": [
    {
     "name": "stdout",
     "output_type": "stream",
     "text": [
      "[0.085 0.045 0.023]\n"
     ]
    }
   ],
   "source": [
    "\n",
    "left_actuator = Actuator_Parameters(0.08, 0.70, 0.06, np.array([0.085, 0.045, 0.023]), np.array([0.005, 0.045, 0.000]))\n",
    "print(left_actuator.base_mount)\n"
   ]
  },
  {
   "cell_type": "code",
   "execution_count": 25,
   "metadata": {},
   "outputs": [
    {
     "ename": "SyntaxError",
     "evalue": "positional argument follows keyword argument unpacking (<ipython-input-25-f7262ffb1658>, line 7)",
     "output_type": "error",
     "traceback": [
      "\u001b[0;36m  File \u001b[0;32m\"<ipython-input-25-f7262ffb1658>\"\u001b[0;36m, line \u001b[0;32m7\u001b[0m\n\u001b[0;31m    right_actuator = Actuator_Parameters(**defaults, np.array([0.085, 0.045, 0.023]), np.array([0.005, 0.045, 0.000]))\u001b[0m\n\u001b[0m                                                     ^\u001b[0m\n\u001b[0;31mSyntaxError\u001b[0m\u001b[0;31m:\u001b[0m positional argument follows keyword argument unpacking\n"
     ]
    }
   ],
   "source": [
    "defaults = dict(\n",
    "    zeroLength = 0.800,\n",
    "    strokeLength = 0.700,\n",
    "    safteyOffset = 0.050,\n",
    ")\n",
    "\n",
    "right_actuator = Actuator_Parameters(**defaults, np.array([0.085, 0.045, 0.023]), np.array([0.005, 0.045, 0.000]))\n",
    "right_actuator.base_mount"
   ]
  },
  {
   "cell_type": "code",
   "execution_count": 9,
   "metadata": {},
   "outputs": [],
   "source": [
    "class Actuator_Parameters:\n",
    "    \"\"\"\n",
    "    A class to represent a actuator.\n",
    "\n",
    "    ...\n",
    "\n",
    "    Attributes\n",
    "    ----------\n",
    "    zeroLength : int/float\n",
    "        The length of the actuator when rod is fully compressed.\n",
    "    strokeLength : int/float\n",
    "        The stroke length of the actuator's rod.\n",
    "    safteyOffset : int/float\n",
    "        Saftey tolerance added to zero length and subtracted from stroke length.\n",
    "    min_len : int/float\n",
    "        Minimum actuator length (zero_len + saftey_tol).\n",
    "    max_len : int/float\n",
    "        Maximum actuator length (zero_len + stroke_len - saftey_tol).\n",
    "    base_mount : 3x1 np.array, dtype=float (Default = np.array[0,0,0])\n",
    "        Actuator base end mounting X,Y,Z postion.\n",
    "    rod_mount : 3x1 np.array, dtype=float (Default = np.array[0,0,0])\n",
    "        Actuator rod end mounting X,Y,Z postion.\n",
    "\n",
    "\n",
    "    Methods\n",
    "    -------\n",
    "    info(additional=\"\"):\n",
    "        Prints the Actuator Parametes zero length, stroke length, and saftey tolerance.\n",
    "    \"\"\"\n",
    "    def __init__(self, zeroLength, strokeLength, safteyOffset, base_mount = np.array([0,0,0]), rod_mount = np.array([0,0,0])):\n",
    "        self.zero_len = zeroLength\n",
    "        self.stroke_len = strokeLength\n",
    "        self.saftey_tol = safteyOffset\n",
    "        self.min_len = zeroLength + safteyOffset\n",
    "        self.max_len = zeroLength + strokeLength - safteyOffset\n",
    "        self.base_mount = base_mount\n",
    "        self.rod_mount = rod_mount\n",
    "        \n",
    "        \n",
    "\n",
    "    def info(self):\n",
    "        \"\"\"\n",
    "        Prints the actuator's zero length, stroke length, saftey tolerance, min length, and max length.\n",
    "        Prints the actuators base mounting postion and rod end mounting position.\n",
    "\n",
    "        If the argument 'additional' is passed, then it is appended after the main info.\n",
    "\n",
    "        Parameters\n",
    "        ----------\n",
    "        None\n",
    "\n",
    "        Returns\n",
    "        -------\n",
    "        None\n",
    "        \"\"\"\n",
    "\n",
    "        print(f'Zero length = {self.zero_len}. Stroke length = {self.stroke_len}. Saftey tolerance = {self.saftey_tol}. Min Length = {self.min_len}. Max length = {self.max_len}.')\n",
    "        print(f'Base mount position = {self.base_mount}. Rod end mount position = {self.rod_mount}.')\n",
    "        "
   ]
  },
  {
   "cell_type": "code",
   "execution_count": 56,
   "metadata": {},
   "outputs": [],
   "source": [
    "class Mount_Actuator(Actuator_Parameters):\n",
    "    \"\"\"\n",
    "    A class to represent a Mounted actuator.\n",
    "\n",
    "    ...\n",
    "\n",
    "    Attributes\n",
    "    ----------\n",
    "    base_mount : 3x1 np.array, dtype=float (Default = np.array[0,0,0])\n",
    "        Actuator base end mounting X,Y,Z postion.\n",
    "    rod_mount : 3x1 np.array, dtype=float (Default = np.array[0,0,0])\n",
    "        Actuator rod end mounting X,Y,Z postion.\n",
    "\n",
    "    Methods\n",
    "    -------\n",
    "    info(additional=\"\"):\n",
    "        Prints the Actuator Base mount and Rod end mounting posistion matrices.\n",
    "    \"\"\"\n",
    "    def __init__(self, base_mount = np.array([0,0,0]), rod_mount = np.array([0,0,0])):\n",
    "        self.base_mount = base_mount\n",
    "        self.rod_mount = rod_mount\n",
    "\n",
    "\n",
    "    def info(self, additional=\"\"):\n",
    "        \"\"\"\n",
    "        Prints the actuator's base mount position matrix and rod end postion matrix.\n",
    "\n",
    "        If the argument 'additional' is passed, then it is appended after the main info.\n",
    "\n",
    "        Parameters\n",
    "        ----------\n",
    "        additional : str, optional\n",
    "            More info to be displayed (default is None)\n",
    "\n",
    "        Returns\n",
    "        -------\n",
    "        None\n",
    "        \"\"\"\n",
    "\n",
    "        print(f'Base mount position = {self.base_mount}. Rod mount position = {self.rod_mount}. '+ additional)\n",
    "        "
   ]
  },
  {
   "cell_type": "code",
   "execution_count": null,
   "metadata": {},
   "outputs": [],
   "source": [
    "class Joint_Parameters:\n",
    "    def __init__(self) -> None:\n",
    "        pass\n",
    "    "
   ]
  },
  {
   "cell_type": "code",
   "execution_count": 62,
   "metadata": {},
   "outputs": [
    {
     "name": "stdout",
     "output_type": "stream",
     "text": [
      "50 70 0.05\n"
     ]
    }
   ],
   "source": [
    "#Example Define custom actuator attributes\n",
    "a1 = Actuator_Parameters(50, 70, 0.05)\n",
    "\n",
    "print(a1.zero_len, a1.stroke_len, a1.saftey_tol)"
   ]
  },
  {
   "cell_type": "code",
   "execution_count": 58,
   "metadata": {},
   "outputs": [],
   "source": [
    "a1_left = Mount_Actuator([0.25,0,0.84], [0.25, 0, -0.50])"
   ]
  },
  {
   "cell_type": "code",
   "execution_count": null,
   "metadata": {},
   "outputs": [
    {
     "name": "stdout",
     "output_type": "stream",
     "text": [
      "Zero length = 50. Stroke length = 70. Saftey tolerance = 0.05. Base Mount = [0.25, 0, 0.84]. Rod Mount = [0.25, 0, -0.5]. \n",
      "None\n"
     ]
    }
   ],
   "source": [
    "#Example How to display your custom actuators parameters.\n",
    "print(a1.info(\"\"))"
   ]
  },
  {
   "cell_type": "code",
   "execution_count": null,
   "metadata": {
    "scrolled": true
   },
   "outputs": [
    {
     "name": "stdout",
     "output_type": "stream",
     "text": [
      "\n",
      "    A class to represent a actuator.\n",
      "\n",
      "    ...\n",
      "\n",
      "    Attributes\n",
      "    ----------\n",
      "    zero_len : int/float\n",
      "        The length of the actuator when rod is fully compressed.\n",
      "    stroke_len : int/float\n",
      "        The stroke length of the actuator's rod.\n",
      "    saftey_tol : int/float\n",
      "        Saftey tolerance added to zero length and subtracted from stroke length.\n",
      "    base_mount : 3x1 Array, int/float (Default = [0,0,0])\n",
      "        Actuator base end mounting X,Y,Z postion.\n",
      "    rod_mount : 3x1 Array, int/float (Default = [0,0,0])\n",
      "        Actuator rod end mounting X,Y,Z postion.\n",
      "\n",
      "    Methods\n",
      "    -------\n",
      "    info(additional=\"\"):\n",
      "        Prints the person's name and age.\n",
      "    \n"
     ]
    }
   ],
   "source": [
    "#Example How to print out Class Docstring\n",
    "print(a1.__doc__)"
   ]
  },
  {
   "cell_type": "code",
   "execution_count": null,
   "metadata": {},
   "outputs": [],
   "source": [
    "def romPlots = "
   ]
  }
 ],
 "metadata": {
  "kernelspec": {
   "display_name": "Python 3.8.10 64-bit",
   "language": "python",
   "name": "python3"
  },
  "language_info": {
   "codemirror_mode": {
    "name": "ipython",
    "version": 3
   },
   "file_extension": ".py",
   "mimetype": "text/x-python",
   "name": "python",
   "nbconvert_exporter": "python",
   "pygments_lexer": "ipython3",
   "version": "3.8.10"
  },
  "vscode": {
   "interpreter": {
    "hash": "e7370f93d1d0cde622a1f8e1c04877d8463912d04d973331ad4851f04de6915a"
   }
  }
 },
 "nbformat": 4,
 "nbformat_minor": 4
}
